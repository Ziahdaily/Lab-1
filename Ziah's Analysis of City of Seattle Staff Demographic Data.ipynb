{
 "cells": [
  {
   "cell_type": "markdown",
   "metadata": {},
   "source": [
    "# Analysis of City of Seattle Staff Demographic Data\n",
    "Ziah Daily\n",
    "\n",
    "09/23/19"
   ]
  },
  {
   "cell_type": "markdown",
   "metadata": {},
   "source": [
    "## Abstract"
   ]
  },
  {
   "cell_type": "markdown",
   "metadata": {},
   "source": [
    "In the file is dataset which includes all current City of Seattle Employees, their age, their race/ethnicity, their sex, the dapartment they work in, their hourly rate, their status as an employee, and whether or not they are a regular or temporary worker. Having this data is important becuase it allows us to refelct on the people that work for the city. Additonally, it rasies questions about minimum, maximum, and average age and wage of each city employee. \n",
    "For this lab I am taking the list of all of their age and comapring it to all of their wages.\n"
   ]
  },
  {
   "cell_type": "markdown",
   "metadata": {},
   "source": [
    "## Dataset Preparation\n"
   ]
  },
  {
   "cell_type": "markdown",
   "metadata": {},
   "source": [
    "I got this file from https://data.seattle.gov/City-Business/City-of-Seattle-Staff-Demographics/5avq-r9hj. This dataset has a total of 14.1K rows and 7 collumns. According to the city of Seattle, this dataset was created February 25, 2019, but last updated September 26,2019."
   ]
  },
  {
   "cell_type": "markdown",
   "metadata": {},
   "source": [
    "I am writing the code below becuase I want to analyze the data on the City of Seattle's Staff Demographics. The first line of code allows me to to open the code on jupeter notebooks. The second line creates an empty list to store data from the file that we opened on the City of Seattles Staff Demographics. The third line of code is putting all lines from the file into a list. The fourth line of Data is closing the demographic file, closing the file is a corteous and clean thing to do. The last line is a representation of what the first 5 rows of code look like, giving people an idea of what it looks like."
   ]
  },
  {
   "cell_type": "code",
   "execution_count": 46,
   "metadata": {
    "collapsed": false,
    "scrolled": true
   },
   "outputs": [
    {
     "name": "stdout",
     "output_type": "stream",
     "text": [
      "['Race/Ethnicity,Sex,Department,Age,Hourly Rate,Regular/Temporary,Employee Status\\n', 'Hispanic or Latino,M,Municipal Court,57,29.75,R,A\\n', 'Hispanic or Latino,F,Municipal Court,39,27.18,R,A\\n', 'Hispanic or Latino,M,Police Department,52,59.75,R,A\\n', 'Hispanic or Latino,M,Fire Department,30,38.28,R,A\\n']\n"
     ]
    }
   ],
   "source": [
    "#list of all the names\n",
    "#list of all wages\n",
    "\n",
    "#open the file\n",
    "demographic_file = open(\"City_of_Seattle_Staff_Demographics.csv\", \"r\");\n",
    "\n",
    "#create an empty list to store the data from the csv file\n",
    "demographic_data = []; \n",
    "\n",
    "#put all lines from the file into a list\n",
    "for row in demographic_file:\n",
    "    demographic_data.append(row);\n",
    "    \n",
    "#close the file. It's the courteous and clean thing to do\n",
    "demographic_file.close();\n",
    "\n",
    "#this is what five rows of the data look like-helps give people an idea of what it looks like\n",
    "print(demographic_data[:5]);\n"
   ]
  },
  {
   "cell_type": "markdown",
   "metadata": {},
   "source": [
    "^^^The list printed above represnts the first five rows in the file demographic_data. I printied the first five rows in order to let people know what the data looks like"
   ]
  },
  {
   "cell_type": "markdown",
   "metadata": {},
   "source": [
    "## Data Modeling"
   ]
  },
  {
   "cell_type": "markdown",
   "metadata": {},
   "source": [
    "In this data modeling setion I am extracting two differnt columns and making them into their own seperate lists."
   ]
  },
  {
   "cell_type": "code",
   "execution_count": 47,
   "metadata": {
    "collapsed": false,
    "scrolled": true
   },
   "outputs": [],
   "source": [
    "#max, min, average, median ,and desriptions\n",
    "\n",
    "import statistics\n",
    "\n",
    "#reopen file\n",
    "#demographic_file = open(\"City_of_Seattle_Staff_Demographics.csv\", \"r\");\n",
    "\n",
    "#remove the first element (column header)\n",
    "# the header is useful for telling us what the columns mean, \n",
    "# but you don't want to include it in your mathematical calculations\n",
    "del demographic_data[0];\n",
    "\n",
    "# create two empty lists - one for age and wage\n",
    "# we want to make a list of just the age and the wage \n",
    "age = [];\n",
    "wage = [];  \n",
    "\n",
    "# loop (go through every row one by one) through the original demographic_data\n",
    "for item in range(len(demographic_data)):\n",
    "    \n",
    "    # this line is a bit confusing, but what it is doing is splitting out each comma separated item \n",
    "    # from a row and turning it into a list \n",
    "    # for example, this line of code turns he single string '9/1/15,1393,1483\\n' \n",
    "    # into three separate strings '9/1/15' '1393' and '1483'\n",
    "    # After being split, the three separate strings are then stored in another list called demographic_row\n",
    "    demographic_row = demographic_data[item].split(\",\")\n",
    "    \n",
    "    #now that we've split the row into its three parts, we can pick and choose \n",
    "    # add the second and the third to specific lists for west and east\n",
    "    age.append(int(demographic_row[3]))\n",
    "    wage.append(float(demographic_row[4]))\n"
   ]
  },
  {
   "cell_type": "markdown",
   "metadata": {},
   "source": [
    "Now that I have my two differnt list, I am going to make sime simple calculations on the minium, maximum, average, and median for both of my lists."
   ]
  },
  {
   "cell_type": "code",
   "execution_count": 48,
   "metadata": {
    "collapsed": false,
    "scrolled": true
   },
   "outputs": [
    {
     "name": "stdout",
     "output_type": "stream",
     "text": [
      "age minimum:\n",
      "14\n",
      "wage minimum:\n",
      "5.53\n",
      "age maximum:\n",
      "92\n",
      "wage maximum\n",
      "162.8353\n",
      "age average:\n",
      "45\n",
      "wage average:\n",
      "40.03381942370015\n",
      "age medium:\n",
      "45.0\n",
      "wage medium:\n",
      "39.02\n"
     ]
    }
   ],
   "source": [
    "    \n",
    "agemin = min(age)\n",
    "\n",
    "agemax = max(age)\n",
    "\n",
    "ageavg = statistics.mean(age)\n",
    "\n",
    "agemed = statistics.median(age)\n",
    "\n",
    "wagemin = min(wage)\n",
    "\n",
    "wagemax = max(wage)\n",
    "\n",
    "wageavg = statistics.mean(wage)\n",
    "\n",
    "wagemed = statistics.median(wage)\n",
    "\n",
    "\n",
    "#print all the data and their titles \n",
    "print(\"age minimum:\")\n",
    "print(agemin) \n",
    "print(\"wage minimum:\")\n",
    "print(wagemin)\n",
    "print(\"age maximum:\")\n",
    "print(agemax)\n",
    "print(\"wage maximum\")\n",
    "print(wagemax)\n",
    "print(\"age average:\")\n",
    "print(round(ageavg))\n",
    "print(\"wage average:\")\n",
    "print(wageavg)\n",
    "print(\"age medium:\")\n",
    "print(agemed)\n",
    "print(\"wage medium:\")\n",
    "print(wagemed)"
   ]
  },
  {
   "cell_type": "markdown",
   "metadata": {},
   "source": [
    "## Data Analysis and Conclusion"
   ]
  },
  {
   "cell_type": "markdown",
   "metadata": {},
   "source": [
    "### conclusions:\n",
    "\n",
    "In conclusion this data set shows that the minuimum age of an someone that is working for the city of seattle is 14 years old. This is extremly suprising and raises a lot of questions. In additon to having the minimum age I also calculated the average and maximum wage. The maximum age is 92 years old and the avergae age is 45 years old. After calculating the age, I decided that I would calculate the wage. Similar to age, I learned the maximum, minimum, and average of wage. The minimum wage is 5.53 dollars, the maximum wage is 162 dollars per hour, and the average wage is about 40 dollars an hour.\n",
    "\n",
    "### questions raised:\n",
    "\n",
    "Why is the yougest age 14?\n",
    "\n",
    "Is having a 14 year old working for thecity llegal?\n",
    "\n",
    "Why is there such  a large age gap?\n",
    "\n",
    "Why is there such a large wage gap? \n",
    "\n"
   ]
  },
  {
   "cell_type": "markdown",
   "metadata": {},
   "source": [
    "## Acknowledgments"
   ]
  },
  {
   "cell_type": "markdown",
   "metadata": {},
   "source": [
    "For the first Lab on the analyis of the City of Seattle Demographic Data, I got assistence from Ms. Sconyers and Navya."
   ]
  }
 ],
 "metadata": {
  "anaconda-cloud": {},
  "kernelspec": {
   "display_name": "Python [default]",
   "language": "python",
   "name": "python3"
  },
  "language_info": {
   "codemirror_mode": {
    "name": "ipython",
    "version": 3
   },
   "file_extension": ".py",
   "mimetype": "text/x-python",
   "name": "python",
   "nbconvert_exporter": "python",
   "pygments_lexer": "ipython3",
   "version": "3.5.2"
  }
 },
 "nbformat": 4,
 "nbformat_minor": 1
}
